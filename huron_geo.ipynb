{
 "cells": [
  {
   "cell_type": "code",
   "execution_count": 34,
   "metadata": {},
   "outputs": [],
   "source": [
    "import pandas as pd\n",
    "import geopandas as gpd\n",
    "from shapely.geometry import Point"
   ]
  },
  {
   "cell_type": "markdown",
   "metadata": {},
   "source": [
    "be mindful of \"-83.61155885,\""
   ]
  },
  {
   "cell_type": "code",
   "execution_count": 35,
   "metadata": {},
   "outputs": [
    {
     "name": "stdout",
     "output_type": "stream",
     "text": [
      "  Site ID                        Node ID  Distance from Node to Ground (mm)  \\\n",
      "0       0  007A,011A,005A,009A,072A,061A                                NaN   \n",
      "1  111111                 049A,029A,012A                                NaN   \n",
      "2  A2DWTP                            NaN                                NaN   \n",
      "3  ARB001                            NaN                                0.0   \n",
      "4  ARB002                           097A                             1562.1   \n",
      "\n",
      "                                             Grafana  \\\n",
      "0                                                NaN   \n",
      "1                                                NaN   \n",
      "2  http://ec2-3-142-80-107.us-east-2.compute.amaz...   \n",
      "3                                                NaN   \n",
      "4  https://dash.digitalwaterlab.org:3000/d/yE7jC5...   \n",
      "\n",
      "                                  Site Name Date Deployed        Project  \\\n",
      "0                       Unknown - Lost Node           NaN            NaN   \n",
      "1               Postal - Being Shipped Back           NaN            NaN   \n",
      "2  Ann Arbor Drinking Water Treatment Plant     10/7/2021        BlueSky   \n",
      "3                             Michigan Aero      6/3/2016            NaN   \n",
      "4                     Ellsworth South Inlet      6/3/2016  Washtenaw Co.   \n",
      "\n",
      "      Node Type (from Devices (Phase 2))  \\\n",
      "0  Depth,Retired,Depth,Depth,Depth,Depth   \n",
      "1                      Depth,Depth,Depth   \n",
      "2                                    NaN   \n",
      "3                                    NaN   \n",
      "4                                  Depth   \n",
      "\n",
      "   dist. top of cantilever to bottom of cone (mm)        Latitude, Longitude  \\\n",
      "0                                             NaN                        NaN   \n",
      "1                                             NaN                        NaN   \n",
      "2                                             NaN  42.29782537, -83.76131141   \n",
      "3                                             NaN      42.225072, -83.721289   \n",
      "4                                            88.9    42.2298997, -83.7244034   \n",
      "\n",
      "   ... data quality 2021 Plan        Partner   Contact Name sample frequency  \\\n",
      "0  ...          NaN       NaN            NaN            NaN             10.0   \n",
      "1  ...          NaN       NaN            NaN            NaN             10.0   \n",
      "2  ...          NaN       NaN            NaN            NaN              NaN   \n",
      "3  ...        clean       NaN            NaN            NaN              NaN   \n",
      "4  ...        clean       NaN  Washtenaw Co.  Harry Sheehan             10.0   \n",
      "\n",
      "  GPS Elevation (m)              GPS Lat/ Long     County Bridge Key  \\\n",
      "0               NaN                        NaN        NaN        NaN   \n",
      "1               NaN                        NaN        NaN        NaN   \n",
      "2               NaN                        NaN  Washtenaw        NaN   \n",
      "3               NaN                        NaN  Washtenaw        NaN   \n",
      "4           248.949  42.22988526, -83.72446662  Washtenaw        NaN   \n",
      "\n",
      "  MDOT Regional Dashboard  \n",
      "0                     NaN  \n",
      "1                     NaN  \n",
      "2                     NaN  \n",
      "3                     NaN  \n",
      "4                     NaN  \n",
      "\n",
      "[5 rows x 22 columns]\n",
      "110\n",
      "110\n",
      "110\n",
      "87\n",
      "87\n"
     ]
    },
    {
     "name": "stderr",
     "output_type": "stream",
     "text": [
      "/Users/shinapatel/anaconda3/envs/geo_env/lib/python3.12/site-packages/pyproj/crs/crs.py:141: FutureWarning: '+init=<authority>:<code>' syntax is deprecated. '<authority>:<code>' is the preferred initialization method. When making the change, be mindful of axis order changes: https://pyproj4.github.io/pyproj/stable/gotchas.html#axis-order-changes-in-proj-6\n",
      "  in_crs_string = _prepare_from_proj_string(in_crs_string)\n"
     ]
    }
   ],
   "source": [
    "'''\n",
    "This section will take the csv from airtable and make it into a geojson to use in the next chunk\n",
    "'''\n",
    "\n",
    "# Read the CSV file\n",
    "\n",
    "df = pd.read_csv('Locations-grafana.csv')\n",
    "\n",
    "print(df.head())\n",
    "\n",
    "df = df.dropna(subset=['Node ID'])\n",
    "df = df[df['Node ID'].str.endswith('A')]\n",
    "\n",
    "# Filter rows where 'Latitude, Longitude' is not empty and does not contain '?'\n",
    "df = df[(df['Latitude, Longitude'].notna()) & (df['Latitude, Longitude'] != '?')]\n",
    "\n",
    "# Split the column containing \"lat lon\" into separate latitude and longitude columns\n",
    "print(len(df['Latitude, Longitude']))\n",
    "\n",
    "df[['lat', 'lon']] = df['Latitude, Longitude'].str.split(', ', expand=True)\n",
    "# df[['lat', 'lon']] = df['Latitude, Longitude'].str.split(',', expand=True)\n",
    "print(len(df['lat']))\n",
    "print(len(df['lon']))\n",
    "df = df.dropna(subset=['lon', 'lat'])\n",
    "print(len(df['lat']))\n",
    "print(len(df['lon']))\n",
    "del df['Latitude, Longitude']\n",
    "\n",
    "# Create a GeoDataFrame\n",
    "geometry = [Point(xy) for xy in zip(df['lon'], df['lat'])]\n",
    "crs = {'init': 'epsg:4326'}  # assuming WGS84 coordinates\n",
    "gdf = gpd.GeoDataFrame(df, geometry=geometry, crs=crs)\n",
    "\n",
    "# Convert to GeoJSON\n",
    "output_geojson = 'Huron_sensors.geojson'\n",
    "gdf.to_file(output_geojson, driver='GeoJSON')\n"
   ]
  },
  {
   "cell_type": "code",
   "execution_count": 36,
   "metadata": {},
   "outputs": [
    {
     "data": {
      "text/plain": [
       "Text(152.2753347624341, 0.5, 'Latitude')"
      ]
     },
     "execution_count": 36,
     "metadata": {},
     "output_type": "execute_result"
    },
    {
     "data": {
      "image/png": "[encoded data removed]",
      "text/plain": [
       "<Figure size 640x480 with 1 Axes>"
      ]
     },
     "metadata": {},
     "output_type": "display_data"
    }
   ],
   "source": [
    "# Load GeoJSON files into GeoDataFrames\n",
    "sensor_file = 'Huron_sensors.geojson'\n",
    "river_file = 'Huron_RiverSystem.geojson'\n",
    "watershed_file = \"Huron_Watershed.geojson\"\n",
    "\n",
    "sensor = gpd.read_file(sensor_file)\n",
    "river = gpd.read_file(river_file)\n",
    "watershed = gpd.read_file(watershed_file)\n",
    "\n",
    "# Plot GeoDataFrames on the same plot\n",
    "ax = sensor.plot(color='blue', label='DWL @ UM sensors')\n",
    "river.plot(ax=ax, color='red', label='Rivers')\n",
    "watershed.plot(ax=ax, color='gray', label='Watershed', alpha = 0.2)\n",
    "\n",
    "# Add legends and labels\n",
    "# ax.legend()\n",
    "ax.set_xlabel('Longitude')\n",
    "ax.set_ylabel('Latitude')\n",
    "\n"
   ]
  }
 ],
 "metadata": {
  "kernelspec": {
   "display_name": "geo_env",
   "language": "python",
   "name": "python3"
  },
  "language_info": {
   "codemirror_mode": {
    "name": "ipython",
    "version": 3
   },
   "file_extension": ".py",
   "mimetype": "text/x-python",
   "name": "python",
   "nbconvert_exporter": "python",
   "pygments_lexer": "ipython3",
   "version": "3.12.4"
  }
 },
 "nbformat": 4,
 "nbformat_minor": 2
}
